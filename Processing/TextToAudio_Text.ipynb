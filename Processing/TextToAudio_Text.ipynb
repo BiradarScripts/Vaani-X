{
 "cells": [
  {
   "cell_type": "code",
   "execution_count": 11,
   "metadata": {},
   "outputs": [
    {
     "name": "stdout",
     "output_type": "stream",
     "text": [
      "Defaulting to user installation because normal site-packages is not writeable\n",
      "Requirement already satisfied: pydub in c:\\users\\rutul patel\\appdata\\roaming\\python\\python312\\site-packages (0.25.1)\n",
      "Requirement already satisfied: deep_translator in c:\\users\\rutul patel\\appdata\\roaming\\python\\python312\\site-packages (1.11.4)\n",
      "Requirement already satisfied: gtts in c:\\users\\rutul patel\\appdata\\roaming\\python\\python312\\site-packages (2.5.4)\n",
      "Requirement already satisfied: beautifulsoup4<5.0.0,>=4.9.1 in c:\\users\\rutul patel\\appdata\\roaming\\python\\python312\\site-packages (from deep_translator) (4.12.3)\n",
      "Requirement already satisfied: requests<3.0.0,>=2.23.0 in c:\\users\\rutul patel\\appdata\\roaming\\python\\python312\\site-packages (from deep_translator) (2.32.3)\n",
      "Requirement already satisfied: click<8.2,>=7.1 in c:\\users\\rutul patel\\appdata\\roaming\\python\\python312\\site-packages (from gtts) (8.1.7)\n",
      "Requirement already satisfied: soupsieve>1.2 in c:\\users\\rutul patel\\appdata\\roaming\\python\\python312\\site-packages (from beautifulsoup4<5.0.0,>=4.9.1->deep_translator) (2.6)\n",
      "Requirement already satisfied: colorama in c:\\users\\rutul patel\\appdata\\roaming\\python\\python312\\site-packages (from click<8.2,>=7.1->gtts) (0.4.6)\n",
      "Requirement already satisfied: charset-normalizer<4,>=2 in c:\\users\\rutul patel\\appdata\\roaming\\python\\python312\\site-packages (from requests<3.0.0,>=2.23.0->deep_translator) (3.4.0)\n",
      "Requirement already satisfied: idna<4,>=2.5 in c:\\users\\rutul patel\\appdata\\roaming\\python\\python312\\site-packages (from requests<3.0.0,>=2.23.0->deep_translator) (2.10)\n",
      "Requirement already satisfied: urllib3<3,>=1.21.1 in c:\\users\\rutul patel\\appdata\\roaming\\python\\python312\\site-packages (from requests<3.0.0,>=2.23.0->deep_translator) (2.2.3)\n",
      "Requirement already satisfied: certifi>=2017.4.17 in c:\\users\\rutul patel\\appdata\\roaming\\python\\python312\\site-packages (from requests<3.0.0,>=2.23.0->deep_translator) (2024.8.30)\n",
      "Note: you may need to restart the kernel to use updated packages.\n"
     ]
    },
    {
     "name": "stderr",
     "output_type": "stream",
     "text": [
      "WARNING: Ignoring invalid distribution ~yproj (C:\\Users\\RUTUL PATEL\\AppData\\Roaming\\Python\\Python312\\site-packages)\n",
      "WARNING: Ignoring invalid distribution ~yproj (C:\\Users\\RUTUL PATEL\\AppData\\Roaming\\Python\\Python312\\site-packages)\n",
      "WARNING: Ignoring invalid distribution ~yproj (C:\\Users\\RUTUL PATEL\\AppData\\Roaming\\Python\\Python312\\site-packages)\n"
     ]
    }
   ],
   "source": [
    "pip install pydub deep_translator gtts\n"
   ]
  },
  {
   "cell_type": "code",
   "execution_count": 10,
   "metadata": {},
   "outputs": [
    {
     "name": "stdout",
     "output_type": "stream",
     "text": [
      "Chunk 1 saved to kannada_text.txt\n",
      "Chunk 2 saved to kannada_text.txt\n",
      "All Kannada text saved in kannada_text.txt\n",
      "Audio saved as kannada_audio.mp3\n"
     ]
    }
   ],
   "source": [
    "from deep_translator import GoogleTranslator\n",
    "from gtts import gTTS\n",
    "\n",
    "def split_text(text, max_length=5000):\n",
    "    \"\"\"Split text into chunks of maximum `max_length` characters.\"\"\"\n",
    "    chunks = []\n",
    "    while len(text) > max_length:\n",
    "        split_point = text.rfind('.', 0, max_length)\n",
    "        if split_point == -1:\n",
    "            split_point = max_length\n",
    "        chunks.append(text[:split_point + 1].strip())\n",
    "        text = text[split_point + 1:].strip()\n",
    "    chunks.append(text)  # Add the remaining text\n",
    "    return chunks\n",
    "\n",
    "def english_to_kannada_text(input_filename=\"english_text.txt\", output_text_filename=\"kannada_text.txt\"):\n",
    "    # Step 1: Read English text from the file\n",
    "    with open(input_filename, 'r', encoding='utf-8') as file:\n",
    "        english_text = file.read()\n",
    "\n",
    "    # Step 2: Split the text into chunks of 5000 characters\n",
    "    english_chunks = split_text(english_text, max_length=5000)\n",
    "    \n",
    "    # Step 3: Translate each chunk and save to a Kannada text file\n",
    "    with open(output_text_filename, 'w', encoding='utf-8') as outfile:\n",
    "        for i, chunk in enumerate(english_chunks):\n",
    "            try:\n",
    "                kannada_text = GoogleTranslator(source='en', target='kn').translate(chunk)\n",
    "                outfile.write(kannada_text + \"\\n\\n\")\n",
    "                print(f\"Chunk {i+1} saved to {output_text_filename}\")\n",
    "\n",
    "            except Exception as e:\n",
    "                print(f\"Error during translation for chunk {i+1}: {e}\")\n",
    "\n",
    "    print(f\"All Kannada text saved in {output_text_filename}\")\n",
    "\n",
    "def text_to_audio(input_text_filename=\"kannada_text.txt\", output_audio_filename=\"kannada_audio.mp3\"):\n",
    "    # Step 4: Read Kannada text from the combined text file\n",
    "    with open(input_text_filename, 'r', encoding='utf-8') as file:\n",
    "        kannada_text = file.read()\n",
    "    \n",
    "    # Step 5: Convert Kannada text to a single audio file\n",
    "    tts = gTTS(kannada_text, lang='kn')\n",
    "    tts.save(output_audio_filename)\n",
    "    print(f\"Audio saved as {output_audio_filename}\")\n",
    "\n",
    "# Example usage\n",
    "english_to_kannada_text(\"output_file_1.txt\", \"kannada_text.txt\")\n",
    "text_to_audio(\"kannada_text.txt\", \"kannada_audio.mp3\")\n"
   ]
  }
 ],
 "metadata": {
  "kernelspec": {
   "display_name": "Python 3",
   "language": "python",
   "name": "python3"
  },
  "language_info": {
   "codemirror_mode": {
    "name": "ipython",
    "version": 3
   },
   "file_extension": ".py",
   "mimetype": "text/x-python",
   "name": "python",
   "nbconvert_exporter": "python",
   "pygments_lexer": "ipython3",
   "version": "3.12.5"
  }
 },
 "nbformat": 4,
 "nbformat_minor": 2
}
