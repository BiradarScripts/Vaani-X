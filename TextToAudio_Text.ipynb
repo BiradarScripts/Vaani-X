{
 "cells": [
  {
   "cell_type": "code",
   "execution_count": 2,
   "metadata": {},
   "outputs": [
    {
     "ename": "TypeError",
     "evalue": "the JSON object must be str, bytes or bytearray, not NoneType",
     "output_type": "error",
     "traceback": [
      "\u001b[1;31m---------------------------------------------------------------------------\u001b[0m",
      "\u001b[1;31mTypeError\u001b[0m                                 Traceback (most recent call last)",
      "Cell \u001b[1;32mIn[2], line 26\u001b[0m\n\u001b[0;32m     23\u001b[0m     \u001b[38;5;28mprint\u001b[39m(\u001b[38;5;124mf\u001b[39m\u001b[38;5;124m\"\u001b[39m\u001b[38;5;124mAudio saved as \u001b[39m\u001b[38;5;132;01m{\u001b[39;00maudio_filename\u001b[38;5;132;01m}\u001b[39;00m\u001b[38;5;124m\"\u001b[39m)\n\u001b[0;32m     25\u001b[0m \u001b[38;5;66;03m# Example usage\u001b[39;00m\n\u001b[1;32m---> 26\u001b[0m \u001b[43menglish_to_kannada_text_audio\u001b[49m\u001b[43m(\u001b[49m\u001b[38;5;124;43m\"\u001b[39;49m\u001b[38;5;124;43moutput_file_1.txt\u001b[39;49m\u001b[38;5;124;43m\"\u001b[39;49m\u001b[43m)\u001b[49m\n",
      "Cell \u001b[1;32mIn[2], line 13\u001b[0m, in \u001b[0;36menglish_to_kannada_text_audio\u001b[1;34m(input_filename, audio_filename)\u001b[0m\n\u001b[0;32m     11\u001b[0m \u001b[38;5;66;03m# Step 2: Translate English text to Kannada\u001b[39;00m\n\u001b[0;32m     12\u001b[0m translator \u001b[38;5;241m=\u001b[39m Translator()\n\u001b[1;32m---> 13\u001b[0m translated \u001b[38;5;241m=\u001b[39m \u001b[43mtranslator\u001b[49m\u001b[38;5;241;43m.\u001b[39;49m\u001b[43mtranslate\u001b[49m\u001b[43m(\u001b[49m\u001b[43menglish_text\u001b[49m\u001b[43m,\u001b[49m\u001b[43m \u001b[49m\u001b[43mdest\u001b[49m\u001b[38;5;241;43m=\u001b[39;49m\u001b[38;5;124;43m'\u001b[39;49m\u001b[38;5;124;43mkn\u001b[39;49m\u001b[38;5;124;43m'\u001b[39;49m\u001b[43m)\u001b[49m\n\u001b[0;32m     14\u001b[0m kannada_text \u001b[38;5;241m=\u001b[39m translated\u001b[38;5;241m.\u001b[39mtext\n\u001b[0;32m     16\u001b[0m \u001b[38;5;66;03m# Display translated Kannada text\u001b[39;00m\n",
      "File \u001b[1;32m~\\AppData\\Roaming\\Python\\Python312\\site-packages\\googletrans\\client.py:219\u001b[0m, in \u001b[0;36mTranslator.translate\u001b[1;34m(self, text, dest, src)\u001b[0m\n\u001b[0;32m    216\u001b[0m         \u001b[38;5;28;01mbreak\u001b[39;00m\n\u001b[0;32m    218\u001b[0m data \u001b[38;5;241m=\u001b[39m json\u001b[38;5;241m.\u001b[39mloads(resp)\n\u001b[1;32m--> 219\u001b[0m parsed \u001b[38;5;241m=\u001b[39m \u001b[43mjson\u001b[49m\u001b[38;5;241;43m.\u001b[39;49m\u001b[43mloads\u001b[49m\u001b[43m(\u001b[49m\u001b[43mdata\u001b[49m\u001b[43m[\u001b[49m\u001b[38;5;241;43m0\u001b[39;49m\u001b[43m]\u001b[49m\u001b[43m[\u001b[49m\u001b[38;5;241;43m2\u001b[39;49m\u001b[43m]\u001b[49m\u001b[43m)\u001b[49m\n\u001b[0;32m    220\u001b[0m \u001b[38;5;66;03m# not sure\u001b[39;00m\n\u001b[0;32m    221\u001b[0m should_spacing \u001b[38;5;241m=\u001b[39m parsed[\u001b[38;5;241m1\u001b[39m][\u001b[38;5;241m0\u001b[39m][\u001b[38;5;241m0\u001b[39m][\u001b[38;5;241m3\u001b[39m]\n",
      "File \u001b[1;32mc:\\Program Files\\Python312\\Lib\\json\\__init__.py:339\u001b[0m, in \u001b[0;36mloads\u001b[1;34m(s, cls, object_hook, parse_float, parse_int, parse_constant, object_pairs_hook, **kw)\u001b[0m\n\u001b[0;32m    337\u001b[0m \u001b[38;5;28;01melse\u001b[39;00m:\n\u001b[0;32m    338\u001b[0m     \u001b[38;5;28;01mif\u001b[39;00m \u001b[38;5;129;01mnot\u001b[39;00m \u001b[38;5;28misinstance\u001b[39m(s, (\u001b[38;5;28mbytes\u001b[39m, \u001b[38;5;28mbytearray\u001b[39m)):\n\u001b[1;32m--> 339\u001b[0m         \u001b[38;5;28;01mraise\u001b[39;00m \u001b[38;5;167;01mTypeError\u001b[39;00m(\u001b[38;5;124mf\u001b[39m\u001b[38;5;124m'\u001b[39m\u001b[38;5;124mthe JSON object must be str, bytes or bytearray, \u001b[39m\u001b[38;5;124m'\u001b[39m\n\u001b[0;32m    340\u001b[0m                         \u001b[38;5;124mf\u001b[39m\u001b[38;5;124m'\u001b[39m\u001b[38;5;124mnot \u001b[39m\u001b[38;5;132;01m{\u001b[39;00ms\u001b[38;5;241m.\u001b[39m\u001b[38;5;18m__class__\u001b[39m\u001b[38;5;241m.\u001b[39m\u001b[38;5;18m__name__\u001b[39m\u001b[38;5;132;01m}\u001b[39;00m\u001b[38;5;124m'\u001b[39m)\n\u001b[0;32m    341\u001b[0m     s \u001b[38;5;241m=\u001b[39m s\u001b[38;5;241m.\u001b[39mdecode(detect_encoding(s), \u001b[38;5;124m'\u001b[39m\u001b[38;5;124msurrogatepass\u001b[39m\u001b[38;5;124m'\u001b[39m)\n\u001b[0;32m    343\u001b[0m \u001b[38;5;28;01mif\u001b[39;00m (\u001b[38;5;28mcls\u001b[39m \u001b[38;5;129;01mis\u001b[39;00m \u001b[38;5;28;01mNone\u001b[39;00m \u001b[38;5;129;01mand\u001b[39;00m object_hook \u001b[38;5;129;01mis\u001b[39;00m \u001b[38;5;28;01mNone\u001b[39;00m \u001b[38;5;129;01mand\u001b[39;00m\n\u001b[0;32m    344\u001b[0m         parse_int \u001b[38;5;129;01mis\u001b[39;00m \u001b[38;5;28;01mNone\u001b[39;00m \u001b[38;5;129;01mand\u001b[39;00m parse_float \u001b[38;5;129;01mis\u001b[39;00m \u001b[38;5;28;01mNone\u001b[39;00m \u001b[38;5;129;01mand\u001b[39;00m\n\u001b[0;32m    345\u001b[0m         parse_constant \u001b[38;5;129;01mis\u001b[39;00m \u001b[38;5;28;01mNone\u001b[39;00m \u001b[38;5;129;01mand\u001b[39;00m object_pairs_hook \u001b[38;5;129;01mis\u001b[39;00m \u001b[38;5;28;01mNone\u001b[39;00m \u001b[38;5;129;01mand\u001b[39;00m \u001b[38;5;129;01mnot\u001b[39;00m kw):\n",
      "\u001b[1;31mTypeError\u001b[0m: the JSON object must be str, bytes or bytearray, not NoneType"
     ]
    }
   ],
   "source": [
    "from googletrans import Translator\n",
    "from gtts import gTTS\n",
    "import os\n",
    "\n",
    "def english_to_kannada_text_audio(input_filename=\"english_text.txt\", audio_filename=\"kannada_audio.mp3\"):\n",
    "    # Step 1: Read English text from a file\n",
    "    english_text=\"\"\n",
    "    with open(input_filename, 'r', encoding='utf-8') as file:\n",
    "        english_text = file.read()\n",
    "\n",
    "    # Step 2: Translate English text to Kannada\n",
    "    translator = Translator()\n",
    "    translated = translator.translate(english_text, dest='kn')\n",
    "    kannada_text = translated.text\n",
    "\n",
    "    # Display translated Kannada text\n",
    "    print(\"Kannada Text:\", kannada_text)\n",
    "\n",
    "    # Step 3: Convert Kannada text to speech\n",
    "    tts = gTTS(kannada_text, lang='kn')\n",
    "    tts.save(audio_filename)\n",
    "\n",
    "    print(f\"Audio saved as {audio_filename}\")\n",
    "\n",
    "# Example usage\n",
    "english_to_kannada_text_audio(\"output_file_1.txt\")\n"
   ]
  },
  {
   "cell_type": "code",
   "execution_count": 3,
   "metadata": {},
   "outputs": [
    {
     "name": "stdout",
     "output_type": "stream",
     "text": [
      "Error during translation: the JSON object must be str, bytes or bytearray, not NoneType\n"
     ]
    }
   ],
   "source": [
    "from googletrans import Translator\n",
    "from gtts import gTTS\n",
    "import os\n",
    "\n",
    "def english_to_kannada_text_audio(input_filename=\"english_text.txt\", audio_filename=\"kannada_audio.mp3\"):\n",
    "    # Step 1: Read English text from a file\n",
    "    with open(input_filename, 'r', encoding='utf-8') as file:\n",
    "        english_text = file.read()\n",
    "\n",
    "    # Step 2: Translate English text to Kannada with error handling\n",
    "    translator = Translator()\n",
    "    try:\n",
    "        translated = translator.translate(english_text, dest='kn')\n",
    "        kannada_text = translated.text\n",
    "    except Exception as e:\n",
    "        print(f\"Error during translation: {e}\")\n",
    "        return\n",
    "\n",
    "    # Display translated Kannada text\n",
    "    print(\"Kannada Text:\", kannada_text)\n",
    "\n",
    "    # Step 3: Convert Kannada text to speech\n",
    "    tts = gTTS(kannada_text, lang='kn')\n",
    "    tts.save(audio_filename)\n",
    "\n",
    "    print(f\"Audio saved as {audio_filename}\")\n",
    "\n",
    "# Example usage\n",
    "english_to_kannada_text_audio(\"output_file_1.txt\")\n"
   ]
  },
  {
   "cell_type": "code",
   "execution_count": 6,
   "metadata": {},
   "outputs": [
    {
     "name": "stdout",
     "output_type": "stream",
     "text": [
      "Error during translation: SandalWoodNewsStories_175.mp3:  Namaskara to all I am Ramesh Baluti I am from Kushtagi, Koppala district I am from Dalimbi I am from Sri Gandha, Kushtagi I have planted about 100 acres of Sri Gandha Now, I am coming from different parts of India and different districts of Karnataka They are asking me about Sri Gandha Sir, we are from Sri Gandha We are not from the forest department We are not from the forest department We are not from the forest department How can we grow Sri Gandha? How can we protect it from diseases and diseases? What are the facilities that the government has? Since it is a tropical plant It is not possible to grow it in the forest How can we make Sri Gandha and other facilities together? How can we build a market for it? Now, I am facing many problems I am facing many problems Now, in this video of my brother Satish Kattambale I would like to talk about these topics in detail Now, I will talk about the benefits of Sri Gandha Now, we will call it Sri Gandha in Kannada In English, we call it Sandalwood In Hindi, we call it Chandana What is this Sandalwood? This is growing in different parts of the world This is growing in different parts of the world This is growing in different parts of the world For example, it is growing in our country It is growing in Australia It is growing in Hawaii Island It is growing in Indonesia It is growing in Thailand It is growing in Thailand There are many different types of Sandalwood What is our Sandalwood? We call it Santalam Albam We call it Santalam Spicatum We call it Santalam Spicatum We call it Santalam Asi We call it Santalam Asi We call it Santalam Asi In this way, in different parts of the world There are many people of Sri Gandha What is Sandalwood? It is one of the commercial names It is one of the commercial names At present, I would say At present, I would say It is a special thing For our young people Who have come to this earth Who have come to this earth It is a special thing In this year, the law is being amended In this year, the law is being amended This is an opportunity In this year In 1982 In 1982 The law of the law of the law is called Rajaswami in Sri Gandh. In 1782, when the rule of the hundred satsangas was in effect, Tipu Sultan had a unification agreement with Sri Gandh. That was not the right of the people, but the right of the king. The law of the law of the law of the hundred satsangas was the same law. The law is passed in the year 2001-2002. When someone is born in Sri Gandh, it is his own child. Now, if you look at it now, if you take off your sandal, it is called a royal tree. That is, the king's house. Now, the people's houses can be built on it. We do not have to take any special permission from the government. After we grow up, Our VA, the village accountant, We take a Sri Gandh's Sri Gandh is attached to our water. So what happened is, Sri Gandh was done, And the government has agreed, It means that it is our decision. For example, we have done Sri Gandh in 2027. It is in our water. When we are in 2038, Or when we are in 2040, We have printed the water in 2027. It means that Sri Gandh has come in it. That means that Sri Gandh has been born for about six years, And given to the government. Yes, As per the laws But what about in the state of the state according to the government ? We went there evaluation it are. and other problems that may arise As you all know, sandalwood is basically a semi root parasite It is basically parasitic in nature Sree gandha is a parasitic species It is found in other trees Now, we have to pay attention to the size of the tree Similarly, sandalwood is a forest species It is a forest plant At the same time, it is a very native species of us It is not born from any other country This is our local nature Even from the hundreds of animals, we can find it in our mud, sandalwood, and sandalwood We can find it in our sandalwood In our local communities, there is no particular species It is a species that is known as the sandalwood of the world It is a very strong plant It is known as the sandalwood of the world It is not a dog's scent It is a very strong plant in the world It is called Santalum Album It is the queen of sandalwood It is the queen of sandalwood It is known as the sandalwood of the world Its It is known as the sandalwood of the world It is known as the sandalwood of the world At the same time, in our country, we planning several days The present What kind of plants come out of thishy mata Donails Precious What kind ofあぁ Goons Status We have obvious But in our mountain javelin coming out of this Common That's which we be My name is кажется Is it worth listening on audiobook? Since this is a very good quality, now the medicines that are available in the market the fragrance products now everyone is seeing this in Karnataka they need this product for their production so now there is a possibility now you may know Sri Ganda's price Sir, what is this? Is this a fake? Is this an empty gopura? All these tea drinkers who come here for tea or for some scheme or some white muslim or some satavari you may have heard about satavari Is this a fake? What is this? Some people just said that they are trying to change some plants It is true to use this in that medical way today 70, 80, 100, 150 rupees for Sri Ganda is being cheated by the farmers is what we are seeing but today Sri Ganda if we talk about the market today there is a case deal that Sanataka sandal detergents limited today in bengaluru in ishwantpur there is a a soap carton they are retailing pure sandalwood oil 5 gram 10 gram in 2 packing 5 gram 2000 10 gram 5000 means half a bag 2000 one bag 5000 1000 gram 5000 1000 gram 5000 1000 gram 5 lakhs If 1000 gram is 1 kg then the Karnataka government is retailing in Karnataka at a rate of 5 lakhs per kg Then the sree gandha is retailing small sandals through kaveri emporium through an government agency and the price of sandals is 2,600 rupees that is 26,000 per kg 26 lakhs per quintal 2 crore 60 lakhs per ton is being retailed by the Karnataka government to Karnataka we all know this the price of 1 ton is 2 crore 60 lakhs now today in raithubandhavar if the land is 4 acres then we should not do more than that not 4 acres in all 1 fourth means 1 acre 3 acres is the cost of our traditional agriculture 1 acre if we do sree gandha based agriculture if we do sandalwood centric agroforestry if we do 1 acre we get 300 sree gandha even if the land is 10 kg we can get it we have written economic yield in the last 15 to 20 years 10 kg is 3 tons per 300 acres we can expect sandalwood and artwood now this is an opportunity now law has been passed the scientific system has developed now it is a market market has been created we are living in global era now we are living in the era of market now we can say this is an opportunity we can say this is a chance we have the means of income we have the land we have the land in our town we can use that what we have done now from now on we can live an economic and healthy life we can study and not only living an economic life we can give shelter to animals give food to animals we can travel we can take care of animals we have the social responsibility we can fulfill the social responsibility we can fulfill the social responsibility not only economically economically in addition to economic life a healthy life a ideal life a spiritual life we can live I am saying this in this situation\n",
      " --> Text length need to be between 0 and 5000 characters\n"
     ]
    }
   ],
   "source": [
    "from deep_translator import GoogleTranslator\n",
    "from gtts import gTTS\n",
    "import os\n",
    "\n",
    "def english_to_kannada_text_audio(input_filename=\"english_text.txt\", audio_filename=\"kannada_audio.mp3\"):\n",
    "    # Step 1: Read English text from the file\n",
    "    with open(input_filename, 'r', encoding='utf-8') as file:\n",
    "        english_text = file.read()\n",
    "\n",
    "    # Step 2: Translate English text to Kannada using deep-translator\n",
    "    try:\n",
    "        kannada_text = GoogleTranslator(source='en', target='kn').translate(english_text)\n",
    "    except Exception as e:\n",
    "        print(f\"Error during translation: {e}\")\n",
    "        return\n",
    "\n",
    "    # Display translated Kannada text\n",
    "    print(\"Kannada Text:\", kannada_text)\n",
    "\n",
    "    # Step 3: Convert Kannada text to speech\n",
    "    tts = gTTS(kannada_text, lang='kn')\n",
    "    tts.save(audio_filename)\n",
    "\n",
    "    print(f\"Audio saved as {audio_filename}\")\n",
    "\n",
    "# Example usage\n",
    "english_to_kannada_text_audio(\"output_file_1.txt\")\n"
   ]
  },
  {
   "cell_type": "code",
   "execution_count": 9,
   "metadata": {},
   "outputs": [
    {
     "name": "stdout",
     "output_type": "stream",
     "text": [
      "Chunk 1 Translated Text: SandalWoodNewsStories_175.mp3: ಎಲ್ಲರಿಗೂ ನಮಸ್ಕಾರ ನಾನು ರಮೇಶ ಬಳೂತಿ ನಾನು ಕುಷ್ಟಗಿ, ಕೊಪ್ಪಳ ಜಿಲ್ಲೆಯವನು ನಾನು ದಾಲಿಂಬಿಯವನು ನಾನು ಶ್ರೀ ಗಂಧ, ಕುಷ್ಟಗಿ ನಾನು ಸುಮಾರು 100 ಎಕರೆ ಶ್ರೀ ಗಂಧವನ್ನು ನೆಟ್ಟಿದ್ದೇನೆ, ನಾನು ಈಗ ಭಾರತದ ವಿವಿಧ ಭಾಗಗಳಿಂದ ಬರುತ್ತಿದ್ದೇನೆ ಮತ್ತು ಬೇರೆ ಬೇರೆ ಭಾಗಗಳಿಂದ ಬರುತ್ತಿದ್ದೇನೆ. ಕರ್ನಾಟಕದ ಜಿಲ್ಲೆಗಳು ಅವರು ನನ್ನನ್ನು ಶ್ರೀ ಗಂಧದ ಬಗ್ಗೆ ಕೇಳುತ್ತಿದ್ದಾರೆ ಸರ್, ನಾವು ಶ್ರೀ ಗಂಧದವರು ನಾವು ಅರಣ್ಯ ಇಲಾಖೆಯವರಲ್ಲ ನಾವು ಅರಣ್ಯ ಇಲಾಖೆಯವರಲ್ಲ ನಾವು ಅರಣ್ಯ ಇಲಾಖೆಯವರಲ್ಲ ಶ್ರೀ ಗಂಧವನ್ನು ಹೇಗೆ ಬೆಳೆಸಲಿ? ರೋಗಗಳು ಮತ್ತು ರೋಗಗಳಿಂದ ನಾವು ಅದನ್ನು ಹೇಗೆ ರಕ್ಷಿಸಬಹುದು? ಸರ್ಕಾರದ ಬಳಿ ಇರುವ ಸೌಲಭ್ಯಗಳೇನು? ಇದು ಉಷ್ಣವಲಯದ ಸಸ್ಯವಾಗಿರುವುದರಿಂದ ಕಾಡಿನಲ್ಲಿ ಇದನ್ನು ಬೆಳೆಸಲು ಸಾಧ್ಯವಿಲ್ಲ ನಾವು ಶ್ರೀ ಗಂಧವನ್ನು ಮತ್ತು ಇತರ ಸೌಲಭ್ಯಗಳನ್ನು ಒಟ್ಟಿಗೆ ಹೇಗೆ ಮಾಡಬಹುದು? ನಾವು ಅದಕ್ಕೆ ಮಾರುಕಟ್ಟೆಯನ್ನು ಹೇಗೆ ನಿರ್ಮಿಸಬಹುದು? ಈಗ, ನಾನು ಅನೇಕ ಸಮಸ್ಯೆಗಳನ್ನು ಎದುರಿಸುತ್ತಿದ್ದೇನೆ ಈಗ ನಾನು ಅನೇಕ ಸಮಸ್ಯೆಗಳನ್ನು ಎದುರಿಸುತ್ತಿದ್ದೇನೆ, ನನ್ನ ಸಹೋದರ ಸತೀಶ್ ಕಟ್ಟಂಬಳೆ ಅವರ ಈ ವೀಡಿಯೊದಲ್ಲಿ ನಾನು ಈ ವಿಷಯಗಳ ಬಗ್ಗೆ ವಿವರವಾಗಿ ಮಾತನಾಡಲು ಬಯಸುತ್ತೇನೆ ಈಗ, ನಾನು ಈಗ ಶ್ರೀ ಗಂಧದ ಪ್ರಯೋಜನಗಳ ಬಗ್ಗೆ ಮಾತನಾಡುತ್ತೇನೆ, ನಾವು ಅದನ್ನು ಶ್ರೀ ಎಂದು ಕರೆಯುತ್ತೇವೆ. ಕನ್ನಡದಲ್ಲಿ ಗಂಧ ಇಂಗ್ಲೀಷಿನಲ್ಲಿ, ಹಿಂದಿಯಲ್ಲಿ ಸ್ಯಾಂಡಲ್ ವುಡ್ ಎನ್ನುತ್ತೇವೆ, ಚಂದನ ಎನ್ನುತ್ತೇವೆ ಈ ಸ್ಯಾಂಡಲ್ ವುಡ್ ಎಂದರೇನು? ಇದು ಪ್ರಪಂಚದ ವಿವಿಧ ಭಾಗಗಳಲ್ಲಿ ಬೆಳೆಯುತ್ತಿದೆ ಇದು ಪ್ರಪಂಚದ ವಿವಿಧ ಭಾಗಗಳಲ್ಲಿ ಬೆಳೆಯುತ್ತಿದೆ ಇದು ಪ್ರಪಂಚದ ವಿವಿಧ ಭಾಗಗಳಲ್ಲಿ ಬೆಳೆಯುತ್ತಿದೆ ಉದಾಹರಣೆಗೆ, ಇದು ನಮ್ಮ ದೇಶದಲ್ಲಿ ಬೆಳೆಯುತ್ತಿದೆ ಇದು ಆಸ್ಟ್ರೇಲಿಯಾದಲ್ಲಿ ಬೆಳೆಯುತ್ತಿದೆ ಇದು ಹವಾಯಿ ದ್ವೀಪದಲ್ಲಿ ಬೆಳೆಯುತ್ತಿದೆ ಇದು ಬೆಳೆಯುತ್ತಿದೆ ಇಂಡೋನೇಷ್ಯಾದಲ್ಲಿ ಇದು ಥೈಲ್ಯಾಂಡ್‌ನಲ್ಲಿ ಬೆಳೆಯುತ್ತಿದೆ ಇದು ಥೈಲ್ಯಾಂಡ್‌ನಲ್ಲಿ ಬೆಳೆಯುತ್ತಿದೆ ಹಲವಾರು ವಿಧದ ಶ್ರೀಗಂಧದ ಮರಗಳಿವೆ ನಮ್ಮ ಸ್ಯಾಂಡಲ್‌ವುಡ್ ಯಾವುದು? ನಾವು ಇದನ್ನು ಸಂತಾಲಮ್ ಆಲ್ಬಮ್ ಎಂದು ಕರೆಯುತ್ತೇವೆ ನಾವು ಅದನ್ನು ಸಂತಾಲಂ ಸ್ಪಿಕಟಮ್ ಎಂದು ಕರೆಯುತ್ತೇವೆ ನಾವು ಅದನ್ನು ಸಂತಾಲಂ ಅಸಿ ಎಂದು ಕರೆಯುತ್ತೇವೆ ನಾವು ಅದನ್ನು ಸಂತಾಲಮ್ ಅಸಿ ಎಂದು ಕರೆಯುತ್ತೇವೆ ನಾವು ಅದನ್ನು ಸಂತಾಲಂ ಅಸಿ ಎಂದು ಕರೆಯುತ್ತೇವೆ ನಾವು ಅದನ್ನು ಸಂತಾಲಂ ಅಸಿ ಎಂದು ಕರೆಯುತ್ತೇವೆ ನಾವು ಇದನ್ನು ಸಂತಾಲಮ್ ಅಸಿ ಎಂದು ಕರೆಯುತ್ತೇವೆ ಈ ರೀತಿಯಲ್ಲಿ ಪ್ರಪಂಚದ ವಿವಿಧ ಭಾಗಗಳಲ್ಲಿ ಶ್ರೀ ಗಂಧದ ಅನೇಕ ಜನರಿದ್ದಾರೆ ಸ್ಯಾಂಡಲ್ವುಡ್ ಎಂದರೇನು? ? ಇದು ವಾಣಿಜ್ಯ ಹೆಸರುಗಳಲ್ಲಿ ಒಂದಾಗಿದೆ ಇದು ಪ್ರಸ್ತುತ ವಾಣಿಜ್ಯ ಹೆಸರುಗಳಲ್ಲಿ ಒಂದಾಗಿದೆ, ನಾನು ಪ್ರಸ್ತುತ ಹೇಳುತ್ತೇನೆ, ನಾನು ಹೇಳುತ್ತೇನೆ ಇದು ಈ ಭೂಮಿಗೆ ಬಂದ ನಮ್ಮ ಯುವಜನರಿಗೆ ಈ ಭೂಮಿಗೆ ಬಂದ ಒಂದು ವಿಶೇಷ ವಿಷಯ ವಿಶೇಷ ವಿಷಯ ಈ ವರ್ಷದಲ್ಲಿ ಕಾನೂನು ತಿದ್ದುಪಡಿಯಾಗುತ್ತಿದೆ, ಈ ವರ್ಷದಲ್ಲಿ ಕಾನೂನು ತಿದ್ದುಪಡಿ ಮಾಡಲಾಗುತ್ತಿದೆ ಈ ವರ್ಷದಲ್ಲಿ ಈ ಅವಕಾಶ 1982 ರಲ್ಲಿ 1982 ರಲ್ಲಿ ಕಾನೂನಿನ ನಿಯಮವನ್ನು ಶ್ರೀ ಗಂಧದಲ್ಲಿ ರಾಜಸ್ವಾಮಿ ಎಂದು ಕರೆಯಲಾಗುತ್ತದೆ. 1782 ರಲ್ಲಿ, ನೂರು ಸತ್ಸಂಗಗಳ ಆಳ್ವಿಕೆಯು ಜಾರಿಯಲ್ಲಿದ್ದಾಗ, ಟಿಪ್ಪು ಸುಲ್ತಾನ್ ಶ್ರೀ ಗಂಧದೊಂದಿಗೆ ಏಕೀಕರಣ ಒಪ್ಪಂದವನ್ನು ಹೊಂದಿದ್ದರು. ಅದು ಜನರ ಹಕ್ಕು ಅಲ್ಲ, ಆದರೆ ರಾಜನ ಹಕ್ಕು. ನೂರು ಸತ್ಸಂಗಗಳ ಕಾನೂನಿನ ನಿಯಮವು ಒಂದೇ ಕಾನೂನಾಗಿತ್ತು. ಕಾನೂನನ್ನು 2001-2002 ರಲ್ಲಿ ಅಂಗೀಕರಿಸಲಾಗಿದೆ. ಶ್ರೀಗಂಧದಲ್ಲಿ ಯಾರಾದರೂ ಜನಿಸಿದರೆ ಅದು ಅವರ ಸ್ವಂತ ಮಗು. ಈಗ ನೋಡಿದರೆ ಗಂಧ ತೆಗೆದರೆ ಅದಕ್ಕೆ ರಾಜ ಮರ ಎನ್ನುತ್ತಾರೆ. ಅಂದರೆ ರಾಜನ ಮನೆ. ಈಗ ಅದರ ಮೇಲೆ ಜನರ ಮನೆಗಳನ್ನು ನಿರ್ಮಿಸಬಹುದು. ನಾವು ಸರ್ಕಾರದಿಂದ ಯಾವುದೇ ವಿಶೇಷ ಅನುಮತಿಯನ್ನು ತೆಗೆದುಕೊಳ್ಳಬೇಕಾಗಿಲ್ಲ. ನಾವು ಬೆಳೆದ ನಂತರ, ನಮ್ಮ ವಿಎ, ಗ್ರಾಮ ಲೆಕ್ಕಾಧಿಕಾರಿ, ನಾವು ಶ್ರೀ ಗಂಧದ ಶ್ರೀ ಗಂಧವನ್ನು ತೆಗೆದುಕೊಳ್ಳುತ್ತೇವೆ ನಮ್ಮ ನೀರಿಗೆ ಜೋಡಿಸಲಾಗಿದೆ. ಹಾಗಾದರೆ ಏನಾಯಿತು, ಶ್ರೀ ಗಂಧವನ್ನು ಮಾಡಲಾಯಿತು, ಮತ್ತು ಸರ್ಕಾರವು ಒಪ್ಪಿದೆ ಎಂದರೆ ಅದು ನಮ್ಮ ನಿರ್ಧಾರ. ಉದಾಹರಣೆಗೆ, ನಾವು 2027 ರಲ್ಲಿ ಶ್ರೀ ಗಂಧವನ್ನು ಮಾಡಿದ್ದೇವೆ. ಅದು ನಮ್ಮ ನೀರಿನಲ್ಲಿದೆ. ನಾವು 2038 ರಲ್ಲಿ ಇದ್ದಾಗ, ಅಥವಾ ನಾವು 2040 ರಲ್ಲಿ, ನಾವು 2027 ರಲ್ಲಿ ನೀರನ್ನು ಮುದ್ರಿಸಿದ್ದೇವೆ ಎಂದರೆ ಅದರಲ್ಲಿ ಶ್ರೀ ಗಂಧವು ಬಂದಿದೆ. ಅಂದರೆ ಶ್ರೀಗಂಧವು ಹುಟ್ಟಿ ಸುಮಾರು ಆರು ವರ್ಷಗಳಾಗಿವೆ ಮತ್ತು ಸರ್ಕಾರಕ್ಕೆ ನೀಡಲಾಗಿದೆ. ಹೌದು, ಕಾನೂನಿನ ಪ್ರಕಾರ ಆದರೆ ಸರ್ಕಾರದ ಪ್ರಕಾರ ರಾಜ್ಯದ ಸ್ಥಿತಿ ಏನು? ನಾವು ಅದರ ಮೌಲ್ಯಮಾಪನಕ್ಕೆ ಹೋದೆವು.\n",
      "Chunk 2 Translated Text: ಮತ್ತು ಉದ್ಭವಿಸಬಹುದಾದ ಇತರ ಸಮಸ್ಯೆಗಳು ನಿಮಗೆಲ್ಲರಿಗೂ ತಿಳಿದಿರುವಂತೆ, ಶ್ರೀಗಂಧವು ಮೂಲತಃ ಅರೆಮೂಲ ಪರಾವಲಂಬಿಯಾಗಿದೆ, ಇದು ಮೂಲತಃ ಪರಾವಲಂಬಿ ಸ್ವಭಾವವಾಗಿದೆ ಶ್ರೀಗಂಧವು ಪರಾವಲಂಬಿ ಜಾತಿಯಾಗಿದೆ ಇದು ಇತರ ಮರಗಳಲ್ಲಿ ಕಂಡುಬರುತ್ತದೆ, ಈಗ, ನಾವು ಮರದ ಗಾತ್ರದ ಬಗ್ಗೆ ಗಮನ ಹರಿಸಬೇಕಾಗಿದೆ. , ಶ್ರೀಗಂಧವು ಅರಣ್ಯ ಜಾತಿಯಾಗಿದೆ ಇದು ಕಾಡಿನ ಸಸ್ಯವಾಗಿದೆ ಅದೇ ಸಮಯದಲ್ಲಿ, ಇದು ನಮ್ಮಲ್ಲಿ ಅತ್ಯಂತ ಸ್ಥಳೀಯ ಜಾತಿಯಾಗಿದೆ ಇದು ಯಾವುದೇ ದೇಶದಿಂದ ಹುಟ್ಟಿಲ್ಲ ಇದು ನಮ್ಮ ಸ್ಥಳೀಯ ಸ್ವಭಾವವಾಗಿದೆ ಇದು ನೂರಾರು ಪ್ರಾಣಿಗಳಿಂದಲೂ, ನಾವು ಅದನ್ನು ನಮ್ಮಲ್ಲಿ ಕಾಣಬಹುದು ಮಣ್ಣು, ಶ್ರೀಗಂಧ, ಮತ್ತು ಶ್ರೀಗಂಧವನ್ನು ನಾವು ನಮ್ಮ ಶ್ರೀಗಂಧದಲ್ಲಿ ಕಾಣಬಹುದು ನಮ್ಮ ಸ್ಥಳೀಯ ಸಮುದಾಯಗಳಲ್ಲಿ, ಯಾವುದೇ ನಿರ್ದಿಷ್ಟ ಜಾತಿಗಳಿಲ್ಲ ಇದು ಪ್ರಪಂಚದ ಶ್ರೀಗಂಧ ಎಂದು ಕರೆಯಲ್ಪಡುವ ಒಂದು ಜಾತಿಯಾಗಿದೆ ಇದು ಬಹಳ ಬಲವಾದ ಸಸ್ಯವಾಗಿದೆ ಇದನ್ನು ಶ್ರೀಗಂಧದ ಮರ ಎಂದು ಕರೆಯಲಾಗುತ್ತದೆ ಜಗತ್ತು ಇದು ನಾಯಿಯ ಪರಿಮಳವಲ್ಲ ಇದು ಜಗತ್ತಿನಲ್ಲಿ ಬಹಳ ಬಲವಾದ ಸಸ್ಯವಾಗಿದೆ ಇದನ್ನು ಸ್ಯಾಂಟಲಮ್ ಆಲ್ಬಮ್ ಎಂದು ಕರೆಯಲಾಗುತ್ತದೆ ಇದು ಶ್ರೀಗಂಧದ ರಾಣಿ ಇದು ಶ್ರೀಗಂಧದ ರಾಣಿ ಇದನ್ನು ಶ್ರೀಗಂಧದ ಮರ ಎಂದು ಕರೆಯಲಾಗುತ್ತದೆ ಪ್ರಪಂಚದ ಶ್ರೀಗಂಧದ ಮರ ಎಂದು ಕರೆಯಲಾಗುತ್ತದೆ ಅದೇ ಸಮಯದಲ್ಲಿ, ನಮ್ಮ ದೇಶದಲ್ಲಿ, ನಾವು ಹಲವಾರು ದಿನಗಳನ್ನು ಯೋಜಿಸುತ್ತೇವೆ ಪ್ರಸ್ತುತ ಈ ಮಾತಾ ಡೊನೈಲ್ಸ್ ಅಮೂಲ್ಯವಾದ ಯಾವ ರೀತಿಯ ಸಸ್ಯಗಳು ಹೊರಬರುತ್ತವೆ ಆಫ್あぁ ಗೂಂಡಾಗಳ ಸ್ಥಿತಿ ನಮಗೆ ಸ್ಪಷ್ಟವಾಗಿದೆ ಆದರೆ ನಮ್ಮ ಪರ್ವತ ಜಾವೆಲಿನ್‌ನಲ್ಲಿ ಈ ಕಾಮನ್‌ನಿಂದ ಹೊರಬರುತ್ತಿದೆ ಅದು ನಾವು ನನ್ನ ಹೆಸರಾಗಿದ್ದೇವೆ ಎಂದು ಆಡಿಯೋಬುಕ್‌ನಲ್ಲಿ ಕೇಳಲು ಯೋಗ್ಯವಾಗಿದೆಯೇ? ಇದು ಉತ್ತಮ ಗುಣಮಟ್ಟವಾಗಿರುವುದರಿಂದ ಈಗ ಮಾರುಕಟ್ಟೆಯಲ್ಲಿ ಸಿಗುವ ಔಷಧಗಳು ಸುಗಂಧ ದ್ರವ್ಯಗಳು ಕರ್ನಾಟಕದಲ್ಲಿ ಇದನ್ನು ಎಲ್ಲರೂ ನೋಡುತ್ತಿದ್ದಾರೆ ಅವರ ಉತ್ಪಾದನೆಗೆ ಈ ಉತ್ಪನ್ನ ಬೇಕು ಆದ್ದರಿಂದ ಈಗ ಶ್ರೀ ಗಂಧದ ಬೆಲೆ ನಿಮಗೆ ತಿಳಿದಿರಬಹುದು ಸರ್, ಇದು? ಇದು ನಕಲಿಯೇ? ಇದು ಖಾಲಿ ಗೋಪುರವೇ? ಚಹಾಕ್ಕಾಗಿ ಅಥವಾ ಯಾವುದೋ ಯೋಜನೆಗಾಗಿ ಅಥವಾ ಕೆಲವು ಬಿಳಿ ಮುಸ್ಲಿಂ ಅಥವಾ ಕೆಲವು ಸತಾವರಿ ಇಲ್ಲಿಗೆ ಬರುವ ಈ ಎಲ್ಲಾ ಚಹಾ ಕುಡಿಯುವವರು ಸತಾವರಿ ಬಗ್ಗೆ ನೀವು ಕೇಳಿರಬಹುದು ಇದು ನಕಲಿಯೇ? ಇದು ಏನು? ಕೆಲವರು ಕೆಲವು ಗಿಡಗಳನ್ನು ಬದಲಾಯಿಸಲು ಪ್ರಯತ್ನಿಸುತ್ತಿದ್ದಾರೆ ಎಂದು ಹೇಳಿದ್ದು ನಿಜವೇ ಇದನ್ನು ವೈದ್ಯಕೀಯ ರೀತಿಯಲ್ಲಿ ಉಪಯೋಗಿಸಿ ಇಂದು ಶ್ರೀಗಂಧಕ್ಕೆ 70, 80, 100, 150 ರೂಪಾಯಿಗಳು ರೈತರಿಗೆ ಮೋಸವಾಗುತ್ತಿರುವುದನ್ನು ನಾವು ನೋಡುತ್ತಿದ್ದೇವೆ ಆದರೆ ಇಂದು ಶ್ರೀ ಗಂಡ ನಾವು ಇಂದು ಮಾರುಕಟ್ಟೆಯ ಬಗ್ಗೆ ಮಾತನಾಡುತ್ತೇವೆ ಸನಾತಕ ಸ್ಯಾಂಡಲ್ ಡಿಟರ್ಜೆಂಟ್ಸ್ ಲಿಮಿಟೆಡ್ ಇಂದು ಬೆಂಗಳೂರಿನಲ್ಲಿ ಇಶ್ವಂತಪುರದಲ್ಲಿ ಸೋಪ್ ಕಾರ್ಟನ್ ಇದೆ ಅವರು ಶುದ್ಧ ಶ್ರೀಗಂಧದ ಎಣ್ಣೆಯನ್ನು ಚಿಲ್ಲರೆ ಮಾಡುತ್ತಿದ್ದಾರೆ 5 ಗ್ರಾಂ 10 ಗ್ರಾಂ 2 ಪ್ಯಾಕಿಂಗ್ 5 ಗ್ರಾಂ 2000 10 ಗ್ರಾಂ 5000 ಅಂದರೆ ಅರ್ಧ ಚೀಲ 2000 ಒಂದು ಚೀಲ 5000 1000 ಗ್ರಾಂ 5000 1000 ಗ್ರಾಂ 5000 1000 ಗ್ರಾಂ 5 ಲಕ್ಷ ಕರ್ನಾಟಕದಲ್ಲಿ 1000 ಗ್ರಾಂ ಚಿಲ್ಲರೆ ದರದಲ್ಲಿ 1 ಕೆಜಿ ಕರ್ನಾಟಕದಲ್ಲಿ 1 ಕೆಜಿ ದರದಲ್ಲಿ 1000 ಗ್ರಾಂ. ಪ್ರತಿ ಕೆಜಿಗೆ ಲಕ್ಷಗಳು ನಂತರ ದಿ ಶ್ರೀ ಗಂಧವು ಕಾವೇರಿ ಎಂಪೋರಿಯಂ ಮೂಲಕ ಸರ್ಕಾರಿ ಏಜೆನ್ಸಿ ಮೂಲಕ ಚಿಕ್ಕ ಚಪ್ಪಲಿಯನ್ನು ಚಿಲ್ಲರೆ ಮಾಡುತ್ತಿದೆ ಮತ್ತು ಚಪ್ಪಲಿ ಬೆಲೆ 2,600 ರೂಪಾಯಿಗಳು, ಅಂದರೆ ಕ್ವಿಂಟಲ್‌ಗೆ 26 ಸಾವಿರ ಕೆಜಿಗೆ 26 ಲಕ್ಷ ರೂಪಾಯಿಗಳು 2 ಕೋಟಿ 60 ಲಕ್ಷಗಳು ಕರ್ನಾಟಕ ಸರ್ಕಾರವು ಕರ್ನಾಟಕಕ್ಕೆ ಚಿಲ್ಲರೆ ಮಾಡುತ್ತಿದೆ ಎಂಬುದು ನಮಗೆಲ್ಲರಿಗೂ ತಿಳಿದಿದೆ. ಜಮೀನು ಇದ್ದರೆ ಇಂದು ರೈತಬಾಂಧವರದಲ್ಲಿ 1 ಟನ್ ಬೆಲೆ 2 ಕೋಟಿ 60 ಲಕ್ಷ 4 ಎಕರೆ ನಂತರ ನಾವು ಅದಕ್ಕಿಂತ ಹೆಚ್ಚು ಮಾಡಬಾರದು 1 ನಾಲ್ಕರಲ್ಲಿ 4 ಎಕರೆ ಅಲ್ಲ ಅಂದರೆ 1 ಎಕರೆ 3 ಎಕರೆ ನಮ್ಮ ಸಾಂಪ್ರದಾಯಿಕ ಕೃಷಿಯ ವೆಚ್ಚ 1 ಎಕರೆ ನಾವು ಶ್ರೀಗಂಧ ಆಧಾರಿತ ಕೃಷಿ ಮಾಡಿದರೆ 1 ಎಕರೆ ಶ್ರೀಗಂಧ ಕೇಂದ್ರಿತ ಕೃಷಿ ಅರಣ್ಯ ಮಾಡಿದರೆ 1 ಎಕರೆ ನಾವು ಮಾಡುತ್ತೇವೆ. 300 ಶ್ರೀ ಗಂಧವನ್ನು ಪಡೆಯಿರಿ ಭೂಮಿ 10 ಕೆಜಿ ಇದ್ದರೂ ನಾವು ಅದನ್ನು ಪಡೆಯಬಹುದು ನಾವು ಕಳೆದ 15 ರಿಂದ 20 ವರ್ಷಗಳಲ್ಲಿ ಆರ್ಥಿಕ ಇಳುವರಿಯನ್ನು ಬರೆದಿದ್ದೇವೆ 10 ಕೆಜಿ 300 ಎಕರೆಗೆ 3 ಟನ್ ಶ್ರೀಗಂಧ ಮತ್ತು ಕಲಾಕೃತಿಯನ್ನು ನಾವು ನಿರೀಕ್ಷಿಸಬಹುದು ಈಗ ಇದು ಒಂದು ಅವಕಾಶ ಈಗ ಕಾನೂನು ಜಾರಿಗೆ ಬಂದಿದೆ ವೈಜ್ಞಾನಿಕ ವ್ಯವಸ್ಥೆ ಅಭಿವೃದ್ಧಿಗೊಂಡಿದೆ ಈಗ ಮಾರುಕಟ್ಟೆ ಮಾರುಕಟ್ಟೆಯಾಗಿದೆ ನಾವು ಜಾಗತಿಕ ಯುಗದಲ್ಲಿ ಬದುಕುತ್ತಿದ್ದೇವೆ ಈಗ ನಾವು ಮಾರುಕಟ್ಟೆಯ ಯುಗದಲ್ಲಿ ಬದುಕುತ್ತಿದ್ದೇವೆ ಈಗ ನಾವು ಇದನ್ನು ಒಂದು ಅವಕಾಶ ಎಂದು ಹೇಳಬಹುದು, ಇದು ನಮಗೆ ಆದಾಯದ ಸಾಧನವಾಗಿದೆ ಎಂದು ಹೇಳಬಹುದು ನಮಗೆ ಆದಾಯದ ಸಾಧನವಿದೆ ನಮಗೆ ಭೂಮಿ ಇದೆ ನಮ್ಮ ಊರಿನಲ್ಲಿ ಭೂಮಿ ಇದೆ, ನಾವು ಈಗ ಏನು ಮಾಡಿದ್ದೇವೆಯೋ ಅದನ್ನು ಬಳಸಿಕೊಳ್ಳಬಹುದು ಈಗ ನಾವು ಆರ್ಥಿಕವಾಗಿ ಮತ್ತು ಬದುಕಬಹುದು ಆರೋಗ್ಯಕರ ಜೀವನ ನಾವು ಅಧ್ಯಯನ ಮಾಡಬಹುದು ಮತ್ತು ಮಾತ್ರವಲ್ಲ ಆರ್ಥಿಕವಾಗಿ ಜೀವನ ನಡೆಸುವುದು ನಾವು ಪ್ರಾಣಿಗಳಿಗೆ ಆಶ್ರಯ ನೀಡಬಹುದು ಪ್ರಾಣಿಗಳಿಗೆ ಆಹಾರ ನೀಡಬಹುದು ನಾವು ಪ್ರಯಾಣಿಸಬಹುದು ಪ್ರಾಣಿಗಳನ್ನು ನೋಡಿಕೊಳ್ಳಬಹುದು ಸಾಮಾಜಿಕ ಜವಾಬ್ದಾರಿಯನ್ನು ನಾವು ನಿರ್ವಹಿಸಬಹುದು ಸಾಮಾಜಿಕ ಜವಾಬ್ದಾರಿಯನ್ನು ನಾವು ನಿಭಾಯಿಸಬಹುದು ಆರ್ಥಿಕವಾಗಿ ಆರ್ಥಿಕವಾಗಿ ಮಾತ್ರವಲ್ಲದೆ ಸಾಮಾಜಿಕ ಜವಾಬ್ದಾರಿಯನ್ನು ನಿಭಾಯಿಸಬಹುದು ಆರೋಗ್ಯಕರ ಜೀವನ ಆದರ್ಶ ಜೀವನ ಆಧ್ಯಾತ್ಮಿಕ ಜೀವನ ನಾವು ಬದುಕಬಹುದು ಈ ಪರಿಸ್ಥಿತಿಯಲ್ಲಿ ನಾನು ಇದನ್ನು ಹೇಳುತ್ತಿದ್ದೇನೆ\n"
     ]
    },
    {
     "name": "stderr",
     "output_type": "stream",
     "text": [
      "C:\\Users\\RUTUL PATEL\\AppData\\Roaming\\Python\\Python312\\site-packages\\pydub\\utils.py:170: RuntimeWarning: Couldn't find ffmpeg or avconv - defaulting to ffmpeg, but may not work\n",
      "  warn(\"Couldn't find ffmpeg or avconv - defaulting to ffmpeg, but may not work\", RuntimeWarning)\n",
      "C:\\Users\\RUTUL PATEL\\AppData\\Roaming\\Python\\Python312\\site-packages\\pydub\\utils.py:198: RuntimeWarning: Couldn't find ffprobe or avprobe - defaulting to ffprobe, but may not work\n",
      "  warn(\"Couldn't find ffprobe or avprobe - defaulting to ffprobe, but may not work\", RuntimeWarning)\n",
      "C:\\Users\\RUTUL PATEL\\AppData\\Roaming\\Python\\Python312\\site-packages\\pydub\\utils.py:300: SyntaxWarning: invalid escape sequence '\\('\n",
      "  m = re.match('([su]([0-9]{1,2})p?) \\(([0-9]{1,2}) bit\\)$', token)\n",
      "C:\\Users\\RUTUL PATEL\\AppData\\Roaming\\Python\\Python312\\site-packages\\pydub\\utils.py:301: SyntaxWarning: invalid escape sequence '\\('\n",
      "  m2 = re.match('([su]([0-9]{1,2})p?)( \\(default\\))?$', token)\n",
      "C:\\Users\\RUTUL PATEL\\AppData\\Roaming\\Python\\Python312\\site-packages\\pydub\\utils.py:310: SyntaxWarning: invalid escape sequence '\\('\n",
      "  elif re.match('(flt)p?( \\(default\\))?$', token):\n",
      "C:\\Users\\RUTUL PATEL\\AppData\\Roaming\\Python\\Python312\\site-packages\\pydub\\utils.py:314: SyntaxWarning: invalid escape sequence '\\('\n",
      "  elif re.match('(dbl)p?( \\(default\\))?$', token):\n"
     ]
    },
    {
     "ename": "FileNotFoundError",
     "evalue": "[WinError 2] The system cannot find the file specified",
     "output_type": "error",
     "traceback": [
      "\u001b[1;31m---------------------------------------------------------------------------\u001b[0m",
      "\u001b[1;31mFileNotFoundError\u001b[0m                         Traceback (most recent call last)",
      "Cell \u001b[1;32mIn[9], line 62\u001b[0m\n\u001b[0;32m     59\u001b[0m         os\u001b[38;5;241m.\u001b[39mremove(audio_file)\n\u001b[0;32m     61\u001b[0m \u001b[38;5;66;03m# Example usage\u001b[39;00m\n\u001b[1;32m---> 62\u001b[0m \u001b[43menglish_to_kannada_text_audio\u001b[49m\u001b[43m(\u001b[49m\u001b[38;5;124;43m\"\u001b[39;49m\u001b[38;5;124;43moutput_file_1.txt\u001b[39;49m\u001b[38;5;124;43m\"\u001b[39;49m\u001b[43m)\u001b[49m\n",
      "Cell \u001b[1;32mIn[9], line 51\u001b[0m, in \u001b[0;36menglish_to_kannada_text_audio\u001b[1;34m(input_filename, output_audio_filename)\u001b[0m\n\u001b[0;32m     49\u001b[0m combined \u001b[38;5;241m=\u001b[39m AudioSegment\u001b[38;5;241m.\u001b[39mempty()\n\u001b[0;32m     50\u001b[0m \u001b[38;5;28;01mfor\u001b[39;00m audio_file \u001b[38;5;129;01min\u001b[39;00m audio_files:\n\u001b[1;32m---> 51\u001b[0m     combined \u001b[38;5;241m+\u001b[39m\u001b[38;5;241m=\u001b[39m \u001b[43mAudioSegment\u001b[49m\u001b[38;5;241;43m.\u001b[39;49m\u001b[43mfrom_mp3\u001b[49m\u001b[43m(\u001b[49m\u001b[43maudio_file\u001b[49m\u001b[43m)\u001b[49m\n\u001b[0;32m     53\u001b[0m \u001b[38;5;66;03m# Export combined audio\u001b[39;00m\n\u001b[0;32m     54\u001b[0m combined\u001b[38;5;241m.\u001b[39mexport(output_audio_filename, \u001b[38;5;28mformat\u001b[39m\u001b[38;5;241m=\u001b[39m\u001b[38;5;124m\"\u001b[39m\u001b[38;5;124mmp3\u001b[39m\u001b[38;5;124m\"\u001b[39m)\n",
      "File \u001b[1;32m~\\AppData\\Roaming\\Python\\Python312\\site-packages\\pydub\\audio_segment.py:796\u001b[0m, in \u001b[0;36mAudioSegment.from_mp3\u001b[1;34m(cls, file, parameters)\u001b[0m\n\u001b[0;32m    794\u001b[0m \u001b[38;5;129m@classmethod\u001b[39m\n\u001b[0;32m    795\u001b[0m \u001b[38;5;28;01mdef\u001b[39;00m \u001b[38;5;21mfrom_mp3\u001b[39m(\u001b[38;5;28mcls\u001b[39m, file, parameters\u001b[38;5;241m=\u001b[39m\u001b[38;5;28;01mNone\u001b[39;00m):\n\u001b[1;32m--> 796\u001b[0m     \u001b[38;5;28;01mreturn\u001b[39;00m \u001b[38;5;28;43mcls\u001b[39;49m\u001b[38;5;241;43m.\u001b[39;49m\u001b[43mfrom_file\u001b[49m\u001b[43m(\u001b[49m\u001b[43mfile\u001b[49m\u001b[43m,\u001b[49m\u001b[43m \u001b[49m\u001b[38;5;124;43m'\u001b[39;49m\u001b[38;5;124;43mmp3\u001b[39;49m\u001b[38;5;124;43m'\u001b[39;49m\u001b[43m,\u001b[49m\u001b[43m \u001b[49m\u001b[43mparameters\u001b[49m\u001b[38;5;241;43m=\u001b[39;49m\u001b[43mparameters\u001b[49m\u001b[43m)\u001b[49m\n",
      "File \u001b[1;32m~\\AppData\\Roaming\\Python\\Python312\\site-packages\\pydub\\audio_segment.py:728\u001b[0m, in \u001b[0;36mAudioSegment.from_file\u001b[1;34m(cls, file, format, codec, parameters, start_second, duration, **kwargs)\u001b[0m\n\u001b[0;32m    726\u001b[0m     info \u001b[38;5;241m=\u001b[39m \u001b[38;5;28;01mNone\u001b[39;00m\n\u001b[0;32m    727\u001b[0m \u001b[38;5;28;01melse\u001b[39;00m:\n\u001b[1;32m--> 728\u001b[0m     info \u001b[38;5;241m=\u001b[39m \u001b[43mmediainfo_json\u001b[49m\u001b[43m(\u001b[49m\u001b[43morig_file\u001b[49m\u001b[43m,\u001b[49m\u001b[43m \u001b[49m\u001b[43mread_ahead_limit\u001b[49m\u001b[38;5;241;43m=\u001b[39;49m\u001b[43mread_ahead_limit\u001b[49m\u001b[43m)\u001b[49m\n\u001b[0;32m    729\u001b[0m \u001b[38;5;28;01mif\u001b[39;00m info:\n\u001b[0;32m    730\u001b[0m     audio_streams \u001b[38;5;241m=\u001b[39m [x \u001b[38;5;28;01mfor\u001b[39;00m x \u001b[38;5;129;01min\u001b[39;00m info[\u001b[38;5;124m'\u001b[39m\u001b[38;5;124mstreams\u001b[39m\u001b[38;5;124m'\u001b[39m]\n\u001b[0;32m    731\u001b[0m                      \u001b[38;5;28;01mif\u001b[39;00m x[\u001b[38;5;124m'\u001b[39m\u001b[38;5;124mcodec_type\u001b[39m\u001b[38;5;124m'\u001b[39m] \u001b[38;5;241m==\u001b[39m \u001b[38;5;124m'\u001b[39m\u001b[38;5;124maudio\u001b[39m\u001b[38;5;124m'\u001b[39m]\n",
      "File \u001b[1;32m~\\AppData\\Roaming\\Python\\Python312\\site-packages\\pydub\\utils.py:274\u001b[0m, in \u001b[0;36mmediainfo_json\u001b[1;34m(filepath, read_ahead_limit)\u001b[0m\n\u001b[0;32m    271\u001b[0m         file\u001b[38;5;241m.\u001b[39mclose()\n\u001b[0;32m    273\u001b[0m command \u001b[38;5;241m=\u001b[39m [prober, \u001b[38;5;124m'\u001b[39m\u001b[38;5;124m-of\u001b[39m\u001b[38;5;124m'\u001b[39m, \u001b[38;5;124m'\u001b[39m\u001b[38;5;124mjson\u001b[39m\u001b[38;5;124m'\u001b[39m] \u001b[38;5;241m+\u001b[39m command_args\n\u001b[1;32m--> 274\u001b[0m res \u001b[38;5;241m=\u001b[39m \u001b[43mPopen\u001b[49m\u001b[43m(\u001b[49m\u001b[43mcommand\u001b[49m\u001b[43m,\u001b[49m\u001b[43m \u001b[49m\u001b[43mstdin\u001b[49m\u001b[38;5;241;43m=\u001b[39;49m\u001b[43mstdin_parameter\u001b[49m\u001b[43m,\u001b[49m\u001b[43m \u001b[49m\u001b[43mstdout\u001b[49m\u001b[38;5;241;43m=\u001b[39;49m\u001b[43mPIPE\u001b[49m\u001b[43m,\u001b[49m\u001b[43m \u001b[49m\u001b[43mstderr\u001b[49m\u001b[38;5;241;43m=\u001b[39;49m\u001b[43mPIPE\u001b[49m\u001b[43m)\u001b[49m\n\u001b[0;32m    275\u001b[0m output, stderr \u001b[38;5;241m=\u001b[39m res\u001b[38;5;241m.\u001b[39mcommunicate(\u001b[38;5;28minput\u001b[39m\u001b[38;5;241m=\u001b[39mstdin_data)\n\u001b[0;32m    276\u001b[0m output \u001b[38;5;241m=\u001b[39m output\u001b[38;5;241m.\u001b[39mdecode(\u001b[38;5;124m\"\u001b[39m\u001b[38;5;124mutf-8\u001b[39m\u001b[38;5;124m\"\u001b[39m, \u001b[38;5;124m'\u001b[39m\u001b[38;5;124mignore\u001b[39m\u001b[38;5;124m'\u001b[39m)\n",
      "File \u001b[1;32mc:\\Program Files\\Python312\\Lib\\subprocess.py:1026\u001b[0m, in \u001b[0;36mPopen.__init__\u001b[1;34m(self, args, bufsize, executable, stdin, stdout, stderr, preexec_fn, close_fds, shell, cwd, env, universal_newlines, startupinfo, creationflags, restore_signals, start_new_session, pass_fds, user, group, extra_groups, encoding, errors, text, umask, pipesize, process_group)\u001b[0m\n\u001b[0;32m   1022\u001b[0m         \u001b[38;5;28;01mif\u001b[39;00m \u001b[38;5;28mself\u001b[39m\u001b[38;5;241m.\u001b[39mtext_mode:\n\u001b[0;32m   1023\u001b[0m             \u001b[38;5;28mself\u001b[39m\u001b[38;5;241m.\u001b[39mstderr \u001b[38;5;241m=\u001b[39m io\u001b[38;5;241m.\u001b[39mTextIOWrapper(\u001b[38;5;28mself\u001b[39m\u001b[38;5;241m.\u001b[39mstderr,\n\u001b[0;32m   1024\u001b[0m                     encoding\u001b[38;5;241m=\u001b[39mencoding, errors\u001b[38;5;241m=\u001b[39merrors)\n\u001b[1;32m-> 1026\u001b[0m     \u001b[38;5;28;43mself\u001b[39;49m\u001b[38;5;241;43m.\u001b[39;49m\u001b[43m_execute_child\u001b[49m\u001b[43m(\u001b[49m\u001b[43margs\u001b[49m\u001b[43m,\u001b[49m\u001b[43m \u001b[49m\u001b[43mexecutable\u001b[49m\u001b[43m,\u001b[49m\u001b[43m \u001b[49m\u001b[43mpreexec_fn\u001b[49m\u001b[43m,\u001b[49m\u001b[43m \u001b[49m\u001b[43mclose_fds\u001b[49m\u001b[43m,\u001b[49m\n\u001b[0;32m   1027\u001b[0m \u001b[43m                        \u001b[49m\u001b[43mpass_fds\u001b[49m\u001b[43m,\u001b[49m\u001b[43m \u001b[49m\u001b[43mcwd\u001b[49m\u001b[43m,\u001b[49m\u001b[43m \u001b[49m\u001b[43menv\u001b[49m\u001b[43m,\u001b[49m\n\u001b[0;32m   1028\u001b[0m \u001b[43m                        \u001b[49m\u001b[43mstartupinfo\u001b[49m\u001b[43m,\u001b[49m\u001b[43m \u001b[49m\u001b[43mcreationflags\u001b[49m\u001b[43m,\u001b[49m\u001b[43m \u001b[49m\u001b[43mshell\u001b[49m\u001b[43m,\u001b[49m\n\u001b[0;32m   1029\u001b[0m \u001b[43m                        \u001b[49m\u001b[43mp2cread\u001b[49m\u001b[43m,\u001b[49m\u001b[43m \u001b[49m\u001b[43mp2cwrite\u001b[49m\u001b[43m,\u001b[49m\n\u001b[0;32m   1030\u001b[0m \u001b[43m                        \u001b[49m\u001b[43mc2pread\u001b[49m\u001b[43m,\u001b[49m\u001b[43m \u001b[49m\u001b[43mc2pwrite\u001b[49m\u001b[43m,\u001b[49m\n\u001b[0;32m   1031\u001b[0m \u001b[43m                        \u001b[49m\u001b[43merrread\u001b[49m\u001b[43m,\u001b[49m\u001b[43m \u001b[49m\u001b[43merrwrite\u001b[49m\u001b[43m,\u001b[49m\n\u001b[0;32m   1032\u001b[0m \u001b[43m                        \u001b[49m\u001b[43mrestore_signals\u001b[49m\u001b[43m,\u001b[49m\n\u001b[0;32m   1033\u001b[0m \u001b[43m                        \u001b[49m\u001b[43mgid\u001b[49m\u001b[43m,\u001b[49m\u001b[43m \u001b[49m\u001b[43mgids\u001b[49m\u001b[43m,\u001b[49m\u001b[43m \u001b[49m\u001b[43muid\u001b[49m\u001b[43m,\u001b[49m\u001b[43m \u001b[49m\u001b[43mumask\u001b[49m\u001b[43m,\u001b[49m\n\u001b[0;32m   1034\u001b[0m \u001b[43m                        \u001b[49m\u001b[43mstart_new_session\u001b[49m\u001b[43m,\u001b[49m\u001b[43m \u001b[49m\u001b[43mprocess_group\u001b[49m\u001b[43m)\u001b[49m\n\u001b[0;32m   1035\u001b[0m \u001b[38;5;28;01mexcept\u001b[39;00m:\n\u001b[0;32m   1036\u001b[0m     \u001b[38;5;66;03m# Cleanup if the child failed starting.\u001b[39;00m\n\u001b[0;32m   1037\u001b[0m     \u001b[38;5;28;01mfor\u001b[39;00m f \u001b[38;5;129;01min\u001b[39;00m \u001b[38;5;28mfilter\u001b[39m(\u001b[38;5;28;01mNone\u001b[39;00m, (\u001b[38;5;28mself\u001b[39m\u001b[38;5;241m.\u001b[39mstdin, \u001b[38;5;28mself\u001b[39m\u001b[38;5;241m.\u001b[39mstdout, \u001b[38;5;28mself\u001b[39m\u001b[38;5;241m.\u001b[39mstderr)):\n",
      "File \u001b[1;32mc:\\Program Files\\Python312\\Lib\\subprocess.py:1538\u001b[0m, in \u001b[0;36mPopen._execute_child\u001b[1;34m(self, args, executable, preexec_fn, close_fds, pass_fds, cwd, env, startupinfo, creationflags, shell, p2cread, p2cwrite, c2pread, c2pwrite, errread, errwrite, unused_restore_signals, unused_gid, unused_gids, unused_uid, unused_umask, unused_start_new_session, unused_process_group)\u001b[0m\n\u001b[0;32m   1536\u001b[0m \u001b[38;5;66;03m# Start the process\u001b[39;00m\n\u001b[0;32m   1537\u001b[0m \u001b[38;5;28;01mtry\u001b[39;00m:\n\u001b[1;32m-> 1538\u001b[0m     hp, ht, pid, tid \u001b[38;5;241m=\u001b[39m \u001b[43m_winapi\u001b[49m\u001b[38;5;241;43m.\u001b[39;49m\u001b[43mCreateProcess\u001b[49m\u001b[43m(\u001b[49m\u001b[43mexecutable\u001b[49m\u001b[43m,\u001b[49m\u001b[43m \u001b[49m\u001b[43margs\u001b[49m\u001b[43m,\u001b[49m\n\u001b[0;32m   1539\u001b[0m \u001b[43m                             \u001b[49m\u001b[38;5;66;43;03m# no special security\u001b[39;49;00m\n\u001b[0;32m   1540\u001b[0m \u001b[43m                             \u001b[49m\u001b[38;5;28;43;01mNone\u001b[39;49;00m\u001b[43m,\u001b[49m\u001b[43m \u001b[49m\u001b[38;5;28;43;01mNone\u001b[39;49;00m\u001b[43m,\u001b[49m\n\u001b[0;32m   1541\u001b[0m \u001b[43m                             \u001b[49m\u001b[38;5;28;43mint\u001b[39;49m\u001b[43m(\u001b[49m\u001b[38;5;129;43;01mnot\u001b[39;49;00m\u001b[43m \u001b[49m\u001b[43mclose_fds\u001b[49m\u001b[43m)\u001b[49m\u001b[43m,\u001b[49m\n\u001b[0;32m   1542\u001b[0m \u001b[43m                             \u001b[49m\u001b[43mcreationflags\u001b[49m\u001b[43m,\u001b[49m\n\u001b[0;32m   1543\u001b[0m \u001b[43m                             \u001b[49m\u001b[43menv\u001b[49m\u001b[43m,\u001b[49m\n\u001b[0;32m   1544\u001b[0m \u001b[43m                             \u001b[49m\u001b[43mcwd\u001b[49m\u001b[43m,\u001b[49m\n\u001b[0;32m   1545\u001b[0m \u001b[43m                             \u001b[49m\u001b[43mstartupinfo\u001b[49m\u001b[43m)\u001b[49m\n\u001b[0;32m   1546\u001b[0m \u001b[38;5;28;01mfinally\u001b[39;00m:\n\u001b[0;32m   1547\u001b[0m     \u001b[38;5;66;03m# Child is launched. Close the parent's copy of those pipe\u001b[39;00m\n\u001b[0;32m   1548\u001b[0m     \u001b[38;5;66;03m# handles that only the child should have open.  You need\u001b[39;00m\n\u001b[1;32m   (...)\u001b[0m\n\u001b[0;32m   1551\u001b[0m     \u001b[38;5;66;03m# pipe will not close when the child process exits and the\u001b[39;00m\n\u001b[0;32m   1552\u001b[0m     \u001b[38;5;66;03m# ReadFile will hang.\u001b[39;00m\n\u001b[0;32m   1553\u001b[0m     \u001b[38;5;28mself\u001b[39m\u001b[38;5;241m.\u001b[39m_close_pipe_fds(p2cread, p2cwrite,\n\u001b[0;32m   1554\u001b[0m                          c2pread, c2pwrite,\n\u001b[0;32m   1555\u001b[0m                          errread, errwrite)\n",
      "\u001b[1;31mFileNotFoundError\u001b[0m: [WinError 2] The system cannot find the file specified"
     ]
    }
   ],
   "source": [
    "from deep_translator import GoogleTranslator\n",
    "from gtts import gTTS\n",
    "import os\n",
    "\n",
    "def split_text(text, max_length=5000):\n",
    "    \"\"\"Split text into chunks of maximum `max_length` characters.\"\"\"\n",
    "    chunks = []\n",
    "    while len(text) > max_length:\n",
    "        # Find the last period within the max length to split at a sentence boundary\n",
    "        split_point = text.rfind('.', 0, max_length)\n",
    "        if split_point == -1:  # If no period is found, split at max_length\n",
    "            split_point = max_length\n",
    "        chunks.append(text[:split_point + 1].strip())\n",
    "        text = text[split_point + 1:].strip()\n",
    "    chunks.append(text)  # Add the remaining text\n",
    "    return chunks\n",
    "\n",
    "def english_to_kannada_text_audio(input_filename=\"english_text.txt\", output_audio_filename=\"kannada_audio.mp3\"):\n",
    "    # Step 1: Read English text from the file\n",
    "    with open(input_filename, 'r', encoding='utf-8') as file:\n",
    "        english_text = file.read()\n",
    "\n",
    "    # Step 2: Split the text into chunks of 5000 characters\n",
    "    english_chunks = split_text(english_text, max_length=5000)\n",
    "    \n",
    "    # Initialize an empty list to store Kannada text and audio files\n",
    "    kannada_text_chunks = []\n",
    "    audio_files = []\n",
    "\n",
    "    # Step 3: Translate each chunk and generate audio\n",
    "    for i, chunk in enumerate(english_chunks):\n",
    "        try:\n",
    "            kannada_text = GoogleTranslator(source='en', target='kn').translate(chunk)\n",
    "            kannada_text_chunks.append(kannada_text)\n",
    "            print(f\"Chunk {i+1} Translated Text: {kannada_text}\")\n",
    "\n",
    "            # Generate audio for this chunk and save to a temporary file\n",
    "            tts = gTTS(kannada_text, lang='kn')\n",
    "            temp_audio_filename = f\"temp_audio_{i}.mp3\"\n",
    "            tts.save(temp_audio_filename)\n",
    "            audio_files.append(temp_audio_filename)\n",
    "\n",
    "        except Exception as e:\n",
    "            print(f\"Error during translation or TTS for chunk {i+1}: {e}\")\n",
    "            continue\n",
    "\n",
    "    # Step 4: Combine audio files into a single file (requires pydub library)\n",
    "    from pydub import AudioSegment\n",
    "    combined = AudioSegment.empty()\n",
    "    for audio_file in audio_files:\n",
    "        combined += AudioSegment.from_mp3(audio_file)\n",
    "    \n",
    "    # Export combined audio\n",
    "    combined.export(output_audio_filename, format=\"mp3\")\n",
    "    print(f\"Combined audio saved as {output_audio_filename}\")\n",
    "\n",
    "    # Cleanup temporary audio files\n",
    "    for audio_file in audio_files:\n",
    "        os.remove(audio_file)\n",
    "\n",
    "# Example usage\n",
    "english_to_kannada_text_audio(\"output_file_1.txt\")\n"
   ]
  },
  {
   "cell_type": "code",
   "execution_count": 8,
   "metadata": {},
   "outputs": [
    {
     "name": "stdout",
     "output_type": "stream",
     "text": [
      "Defaulting to user installation because normal site-packages is not writeableNote: you may need to restart the kernel to use updated packages.\n",
      "\n",
      "Collecting pydub\n",
      "  Downloading pydub-0.25.1-py2.py3-none-any.whl.metadata (1.4 kB)\n",
      "Downloading pydub-0.25.1-py2.py3-none-any.whl (32 kB)\n",
      "Installing collected packages: pydub\n",
      "Successfully installed pydub-0.25.1\n"
     ]
    },
    {
     "name": "stderr",
     "output_type": "stream",
     "text": [
      "WARNING: Ignoring invalid distribution ~yproj (C:\\Users\\RUTUL PATEL\\AppData\\Roaming\\Python\\Python312\\site-packages)\n",
      "WARNING: Ignoring invalid distribution ~yproj (C:\\Users\\RUTUL PATEL\\AppData\\Roaming\\Python\\Python312\\site-packages)\n",
      "WARNING: Ignoring invalid distribution ~yproj (C:\\Users\\RUTUL PATEL\\AppData\\Roaming\\Python\\Python312\\site-packages)\n"
     ]
    }
   ],
   "source": [
    "pip install pydub\n"
   ]
  },
  {
   "cell_type": "code",
   "execution_count": null,
   "metadata": {},
   "outputs": [],
   "source": [
    "from googletrans import Translator\n",
    "from gtts import gTTS\n",
    "import os\n",
    "\n",
    "def english_to_kannada_text_audio(english_text, audio_filename=\"kannada_audio.mp3\"):\n",
    "    # Step 1: Translate English text to Kannada\n",
    "    translator = Translator()\n",
    "    translated = translator.translate(english_text, dest='kn')\n",
    "    kannada_text = translated.text\n",
    "\n",
    "    # Display translated Kannada text\n",
    "    print(\"Kannada Text:\", kannada_text)\n",
    "\n",
    "    # Step 2: Convert Kannada text to speech\n",
    "    tts = gTTS(kannada_text, lang='kn')\n",
    "    tts.save(audio_filename)\n",
    "\n",
    "    print(f\"Audio saved as {audio_filename}\")\n",
    "\n",
    "# Example usage\n",
    "english_text = \"Hello, how are you?\"\n",
    "english_to_kannada_text_audio(english_text)\n"
   ]
  }
 ],
 "metadata": {
  "kernelspec": {
   "display_name": "Python 3",
   "language": "python",
   "name": "python3"
  },
  "language_info": {
   "codemirror_mode": {
    "name": "ipython",
    "version": 3
   },
   "file_extension": ".py",
   "mimetype": "text/x-python",
   "name": "python",
   "nbconvert_exporter": "python",
   "pygments_lexer": "ipython3",
   "version": "3.12.5"
  }
 },
 "nbformat": 4,
 "nbformat_minor": 2
}
