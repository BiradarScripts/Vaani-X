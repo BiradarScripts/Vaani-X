{
 "cells": [
  {
   "cell_type": "code",
   "execution_count": null,
   "metadata": {},
   "outputs": [],
   "source": [
    "import os\n",
    "import whisper\n",
    "\n",
    "def transcribe_and_translate(audio_file_path, model):\n",
    "    \"\"\"\n",
    "    Transcribes and translates audio in Kannada to English text using Whisper.\n",
    "    \"\"\"\n",
    "    result = model.transcribe(audio_file_path, language=\"kn\", task=\"translate\")\n",
    "    return result['text']\n",
    "\n",
    "def create_text_dataset(audio_dir, output_file=\"translated_text_dataset.txt\"):\n",
    "    \"\"\"\n",
    "    Converts a directory of Kannada audio files into English text and saves the result.\n",
    "    \"\"\"\n",
    "    # Load Whisper model\n",
    "    model = whisper.load_model(\"large\")  # Use the \"large\" model for better accuracy, can also try \"medium\" or \"small\" if resources are limited\n",
    "\n",
    "    # Path to save translations in the audio directory\n",
    "    output_file_path = os.path.join(audio_dir, output_file)\n",
    "\n",
    "    # Open file to save translations\n",
    "    with open(output_file_path, \"w\", encoding=\"utf-8\") as f:\n",
    "        for audio_file in os.listdir(audio_dir):\n",
    "            if audio_file.endswith(\".mp3\"):  # Assuming audio files are in .mp3 format\n",
    "                audio_path = os.path.join(audio_dir, audio_file)\n",
    "                try:\n",
    "                    # Transcribe and translate audio to English text\n",
    "                    english_text = transcribe_and_translate(audio_path, model)\n",
    "                    # Save transcription to file with filename as identifier\n",
    "                    f.write(f\"{audio_file}: {english_text}\\n\")\n",
    "                    print(f\"Processed {audio_file}\")\n",
    "                except Exception as e:\n",
    "                    print(f\"Error processing {audio_file}: {e}\")\n",
    "\n",
    "    print(f\"Translation dataset saved to {output_file_path}\")\n",
    "\n",
    "# Directory containing Kannada audio files\n",
    "audio_directory = \"/content/drive/MyDrive/\"  # Replace with the path to your audio files\n",
    "create_text_dataset(audio_directory, \"output_file_1.txt\")\n"
   ]
  }
 ],
 "metadata": {
  "kernelspec": {
   "display_name": "Python 3",
   "language": "python",
   "name": "python3"
  },
  "language_info": {
   "name": "python",
   "version": "3.12.5"
  }
 },
 "nbformat": 4,
 "nbformat_minor": 2
}
